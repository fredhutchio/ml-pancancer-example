{
 "cells": [
  {
   "cell_type": "markdown",
   "metadata": {},
   "source": [
    "# Intermediate - Statistical Tests & Regression"
   ]
  },
  {
   "cell_type": "markdown",
   "metadata": {},
   "source": [
    "Intermediate Section Activities (Statistical Testing / Regression):\n",
    "- Statistical libraries\n",
    "    * Scipy, statsmodels\n",
    "- Stats simulations\n",
    "    * Use sims to determine desired sample size for some power of test\n",
    "    * Alternatively evaluate power based on given sample size\n",
    "- Create user defined functions\n",
    "    * Write function for simulation\n",
    "- Statistical Tests\n",
    "    * Test for statistically significant difference in 1 gene between two cancer types\n",
    "        * Do this for a specific gene identified as important for treatment\n",
    "    * ANOVA on one gene versus all other cancer types\n",
    "- Regression using library for 2 cancer types for specific gene(s)\n",
    "    * Linear / Logistic regression\n"
   ]
  }
 ],
 "metadata": {
  "kernelspec": {
   "display_name": "Python [conda env:data558] *",
   "language": "python",
   "name": "conda-env-data558-py"
  },
  "language_info": {
   "codemirror_mode": {
    "name": "ipython",
    "version": 3
   },
   "file_extension": ".py",
   "mimetype": "text/x-python",
   "name": "python",
   "nbconvert_exporter": "python",
   "pygments_lexer": "ipython3",
   "version": "3.7.7"
  }
 },
 "nbformat": 4,
 "nbformat_minor": 4
}
