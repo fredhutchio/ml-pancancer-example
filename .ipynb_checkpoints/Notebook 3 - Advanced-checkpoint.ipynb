{
 "cells": [
  {
   "cell_type": "markdown",
   "metadata": {},
   "source": [
    "# Advance Section Activities (ML Classification Techniques):\n",
    "\n",
    "1. ML basics\n",
    "    * Explain what training means\n",
    "    * Explain overfitting / variance\n",
    "    * Evaluation on testing data\n",
    "* Logistic Regression or Classification \n",
    "    * Use age vs. (other)\n",
    "* Clustering\n",
    "    * K nearest neighbor \n",
    "    * Gaussian Mixture Model \n",
    "    * DBSCAN (density based)\n",
    "    * Explain strengths / weaknesses of each\n",
    "* Use dimension reduction to visualize clusters\n",
    "    * Briefly explain dimension reduction\n",
    "    * Add label coloring to clusters\n",
    "* SVM??\n"
   ]
  },
  {
   "cell_type": "code",
   "execution_count": null,
   "metadata": {},
   "outputs": [],
   "source": []
  }
 ],
 "metadata": {
  "kernelspec": {
   "display_name": "Python [conda env:data558] *",
   "language": "python",
   "name": "conda-env-data558-py"
  },
  "language_info": {
   "codemirror_mode": {
    "name": "ipython",
    "version": 3
   },
   "file_extension": ".py",
   "mimetype": "text/x-python",
   "name": "python",
   "nbconvert_exporter": "python",
   "pygments_lexer": "ipython3",
   "version": "3.7.7"
  }
 },
 "nbformat": 4,
 "nbformat_minor": 4
}
