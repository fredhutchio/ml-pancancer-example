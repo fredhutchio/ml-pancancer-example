{
 "cells": [
  {
   "cell_type": "markdown",
   "metadata": {},
   "source": [
    "# Advance Section Activities (ML Classification Techniques):\n",
    "\n",
    "\n",
    "### Andy and Juan Notes to Complete in Notebook\n",
    "### Delete once finished\n",
    "1. ML basics\n",
    "    * Explain what training means\n",
    "    * Explain overfitting / variance\n",
    "    * Evaluation on testing data\n",
    "* Logistic Regression or Classification \n",
    "    * Use age vs. (other)\n",
    "* Clustering\n",
    "    * K nearest neighbor \n",
    "    * Gaussian Mixture Model \n",
    "    * DBSCAN (density based)\n",
    "    * Explain strengths / weaknesses of each\n",
    "* Use dimension reduction to visualize clusters\n",
    "    * Briefly explain dimension reduction\n",
    "    * Add label coloring to clusters\n",
    "* SVM??\n"
   ]
  },
  {
   "cell_type": "markdown",
   "metadata": {},
   "source": [
    "# Overview\n",
    "\n",
    "This is the expert level notebook for the Data Science (DS) and Machine Learning (ML) FredHutch.io tutorial, where we will work through beginning to end on different aspects and techniques in DS and ML for Research and Analysis.\n",
    "\n",
    "In this notebook we will work through Machine Learning techniques and strategies on the genes data (datasets available [here](https://www.dropbox.com/sh/jke9h4km90ner9l/AAD1UyucvlXIFbKTjl-D15U6a?dl=0)) from the same five cancer types (BRCA, KIRC, COAD, LUAD, PRAD) from the TCGA projects available from the [National Cancer Institute's Genomic Data Commons](https://gdc.cancer.gov/). \n",
    "\n",
    "We will keep working with *python libraries* introduced in the Beginner and Intermediate Tutorials and introduce some new libraries with special purposes in **Machine Learning**.\n",
    "> **Libraries Used in This Tutorial**\n",
    "* Data Manipulation and Processing\n",
    "     - [pandas]( https://pandas.pydata.org/)\n",
    "     - [numpy]( https://numpy.org/)\n",
    "* Data Visualization\n",
    "\t- [Matplotlib](https://matplotlib.org/)\n",
    "    - [Seaborn](https://seaborn.pydata.org/)\n",
    "    - [Altair](https://altair-viz.github.io/)\n",
    "* Statistics\n",
    "    - [Scipy](https://www.scipy.org/)\n",
    "    - [Statsmodels](https://www.statsmodels.org/stable/index.html)\n",
    "* Machine Learning\n",
    "    - [Scikit-Learn](https://scikit-learn.org/stable/)\n",
    "    \n",
    "In this notebook we will be focusing specifically on Machine Learning modeling in **python**. We'll primariy focus in:\n",
    "* Introducing what Machine Learning is\n",
    "* Fundamental concepts and techniques in ML\n",
    "* Introduce and familiarize with using **Scikit-Learn**\n",
    "* Fundamental categories of models\n",
    "* Some specific examples with regression and clustering ML models.\n",
    "\n",
    "# Table of Contents\n",
    "[1. Backgroud on Machine Learning: What is Machine Learning?](#1.-Backgroud-on-Machine-Learning:-What-is-Machine-Learning?)\n",
    "* [1.1 Types of Machine Learning Models](#1.1-Types-of-Machine-Learning Models)"
   ]
  },
  {
   "cell_type": "markdown",
   "metadata": {},
   "source": [
    "## 1. Backgroud on Machine Learning: _What is Machine Learning?_\n",
    "\n",
    "In the world of analytics and specifically Data Science, _\"Machine Learning\"_ is so ubiquitos and a big buzzword thrown all over. Sometimes in the context of _\"We use ML in our (insert product)!\"_ or _\"Just use ML and you'll get the answer\",_ being almost this esoteric concept in Data Science often associated as part of AI.\n",
    "\n",
    "A better way of viewing Machine Learning is as the union of the concepts of computer programming (Beginner Notebook) and statistical concepts (Intermediate Notebook) in Data Science. The primary idea to remember is that we are building models out of data, where our models \"learn\" or become tuned from data and then can make predictions on similar but never before seen data.  \n",
    "\n",
    "\n",
    "### 1.1 Types of Machine Learning Models"
   ]
  },
  {
   "cell_type": "code",
   "execution_count": null,
   "metadata": {},
   "outputs": [],
   "source": []
  },
  {
   "cell_type": "code",
   "execution_count": null,
   "metadata": {},
   "outputs": [],
   "source": []
  },
  {
   "cell_type": "code",
   "execution_count": null,
   "metadata": {},
   "outputs": [],
   "source": []
  },
  {
   "cell_type": "code",
   "execution_count": null,
   "metadata": {},
   "outputs": [],
   "source": []
  },
  {
   "cell_type": "code",
   "execution_count": null,
   "metadata": {},
   "outputs": [],
   "source": []
  },
  {
   "cell_type": "code",
   "execution_count": null,
   "metadata": {},
   "outputs": [],
   "source": []
  },
  {
   "cell_type": "code",
   "execution_count": null,
   "metadata": {},
   "outputs": [],
   "source": []
  },
  {
   "cell_type": "code",
   "execution_count": null,
   "metadata": {},
   "outputs": [],
   "source": []
  }
 ],
 "metadata": {
  "kernelspec": {
   "display_name": "Python [conda env:data558] *",
   "language": "python",
   "name": "conda-env-data558-py"
  },
  "language_info": {
   "codemirror_mode": {
    "name": "ipython",
    "version": 3
   },
   "file_extension": ".py",
   "mimetype": "text/x-python",
   "name": "python",
   "nbconvert_exporter": "python",
   "pygments_lexer": "ipython3",
   "version": "3.7.7"
  }
 },
 "nbformat": 4,
 "nbformat_minor": 4
}
