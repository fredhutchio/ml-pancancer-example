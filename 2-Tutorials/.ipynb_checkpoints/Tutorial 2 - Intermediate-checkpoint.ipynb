{
 "cells": [
  {
   "cell_type": "markdown",
   "metadata": {},
   "source": [
    "# Intermediate - Statistical Tests & Regression\n",
    "\n",
    "### Authors : Juan Solorio & Andres De La Fuente\n",
    "----"
   ]
  },
  {
   "cell_type": "markdown",
   "metadata": {},
   "source": [
    "# Overview\n",
    "\n",
    "This is the intermediate level notebook for the Data Science (DS) and Machine Learning (ML) FredHutch.io tutorial, where we will work through beginning to end on different aspects and techniques in DS for Statistical Testing in Research and Data Analysis.\n",
    "\n",
    "In this notebook we will work through the process of data analysis for the [gene count TCGA Data Set](https://www.dropbox.com/sh/jke9h4km90ner9l/AAD1UyucvlXIFbKTjl-D15U6a?dl=0). **We will be using some findings from the Beginner Tutorial Notebook.**\n",
    "\n",
    "This is the intermediate notebook and we will  focusing specifically on statistical testing and regression models in **python**. We will keep working with *python libraries* introduced in the Beginner Tutorial and introduce some new libraries with special purposes in statistics.\n",
    "> **Libraries Used in This Tutorial**\n",
    "* Data Manipulation and Processing\n",
    "     - [pandas]( https://pandas.pydata.org/)\n",
    "     - [numpy]( https://numpy.org/)\n",
    "* Data Visualization\n",
    "\t- [Matplotlib](https://matplotlib.org/)\n",
    "    - [Seaborn](https://seaborn.pydata.org/)\n",
    "    - [Altair](https://altair-viz.github.io/)\n",
    "* Statistics\n",
    "    - [SciPy](https://www.scipy.org/)\n",
    "    - [Statsmodels](https://www.statsmodels.org/stable/index.html)\n",
    "\n",
    "## Questions\n",
    "\n",
    "In this Notebook, we are focused on figuring out the statistically significant differences in genes between cancer groups. We are also concerned with determining statistical power our experiment given the genes data inspired by the PANCAN dataset.\n",
    "\n",
    "# Table of Contents\n",
    "\n",
    "[1. Statistical Background](#1.-Statistical-Background)\n",
    "* [1.1 Hypothesis Testing](#1.1-Hypothesis-Testing)\n",
    "    - [1.1.2 Steps in Statistical Testing](#1.1.2-Steps-in-Statistical-Testing)\n",
    "        - [Step 1: Hypotheses](#Step-1:-Hypotheses)\n",
    "        - [Step 2: Significance](#Step-2:-Significance)\n",
    "        - [Step 3: Test Statistic](#Step-3:-Test-Statistic)\n",
    "    - [1.1.3 P Value](#1.1.3-P-Value)\n",
    "    - [1.1.4 Statistical Significance](#1.1.4-Statistical-Significance)\n",
    "\n",
    "* [1.2 Statistical Power and Sample Size Calculations](#1.1-Statistical-Power-and-Sample-Size-Calculations)\n",
    "    - [1.2.1 One-Sample Population Calculations](#1.1.1-One-Sample-Population-Calculations)\n",
    "    - [1.2.2 Comparing Two Samples Calculations](#1.1.2-Comparing-Two-Samples-Calculations)\n",
    "\n",
    "[2. Setup](#2.-Setup)\n",
    "\n",
    "* [2.1 Importing Python Libraries](#2.1-Importing-Python-Libraries)\n",
    "     - [2.1.1 Imports](#2.1.1-Imports)\n",
    "     - [2.1.2 Load TCGA Data](#2.1.2-Load-TCGA-Data)\n",
    "\n",
    "[3. Hypothesis Testing](#3.-Hypothesis-Testing)\n",
    "* [3.1 T test on One Sample](#3.1-T-test-on-One-Sample)\n",
    "\n",
    "\n",
    "[4. Power and Sample Size](#4.-Power-and-Sample-Size)\n",
    "* [4.1 One Sample Power](#4.1-One-Sample-Power)\n",
    "* [4.2 Two Sample Power](#4.2-Two-Sample-Power)\n",
    "\n",
    "----\n"
   ]
  },
  {
   "cell_type": "markdown",
   "metadata": {},
   "source": [
    "# 1. Statistical Background\n",
    "\n",
    "## 1.1 Hypothesis Testing\n",
    "\n",
    "Hypothesis tests are used to answer questions about a population. Given gene abundance data we've been looking at, you might ask a question like:\n",
    "\n",
    "> Do the average count levels of 'gene X' differ between people with 'cancer Y' versus 'cancer Z?'\n",
    "\n",
    "Without any further knowledge, the best you could do is look at graphs or summary statistics from your samples. The means of your samples, however, are not good enough - you want to base your decision on the underlying populations. How can you know anything about the whole population? This is where statistical hypothesis testing comes in!\n",
    "\n",
    "### 1.1.1 What does testing do?\n",
    "\n",
    "Basic hypothesis testing essentially asks: what is the probability that our sample came from a population with distribution A versus distribution B?\n",
    "For example, how likely is it that our sample came from a distribution with a mean count = X for a gene expression?\n",
    "Hypothesis testing is a standardized and quantitative framework from which to answer questions like this. Otherwise, you'd be left eyeing out graphs and speculating.\n",
    "\n",
    "### 1.1.2 Steps in Statistical Testing\n",
    "\n",
    "#### Step 1: Hypotheses\n",
    "\n",
    "As we stated before, the first thing you need to perform a statistical test is a hypothesis, you need to know what you want to find out of course. \n",
    "\n",
    "We always decide on a **Null Hypothesis** $H_{0}$ which is the base case. \n",
    "Then we decide on an **Alternative Hypothesis** $H_{1}$, which contradicts $H_{0}$.\n",
    "\n",
    "In our imagined scenario above, our hypotheses would be:\n",
    "\n",
    "> The mean count is $X$; $H_{0}$: $\\mu = X$ \n",
    ">\n",
    "> The mean count is not $X$; $H_{1}$: $\\mu \\neq X$ \n",
    "\n",
    "**IMPORTANT NOTE**\n",
    "_Using hypothesis testing, there are only two ways to interpret the outcome: you reject the Null Hypothesis, or you fail to reject it. The Null cannot be proven to be true._\n",
    "\n",
    "#### Step 2: Significance\n",
    "\n",
    "Based on the above note, there are essentially four possible outcomes and two ways that our hypothesis test outcome could turn out to be wrong:\n",
    "\n",
    "True Statement | Reject $H_{0}$ | Do Not Reject $H_{0}$\n",
    "--------------|-------------|--------------------\n",
    "$H_{0}$ is True | ***Type I Error*** | *Correct Decision*\n",
    "$H_{0}$ is False | *Correct Decision* | ***Type II Error***\n",
    "\n",
    "> **Type I Error:** Rejecting the Null when it is actually true\n",
    ">\n",
    "> **Type II Error:** 'Accepting' the Null when it is actually false\n",
    "\n",
    "The probability of having a Type I error is called the **significance level** of a hypothesis test.\n",
    "Significance level: $\\alpha$\n",
    "\n",
    "The probability of having a Type II error is denoted by $\\beta$.\n",
    "\n",
    "The **power level** of a test is 1 - $\\beta$. In other words, the probability of _\"accepting\"_ the Null when it is actually true. \n",
    "Utimately, we want to perform a test that __minimizes $\\alpha$ and maximises power.__ The catch is that *$\\alpha$ and $\\beta$ are inversely related*. \n",
    "\n",
    "In designing our experiment, the way around this is to specify the $\\alpha$ beforehand, and then try to maximize power.\n",
    "A commonly used value is $\\alpha = 0.05$, but depending on the field other values such as 0.025 or 0.01 are often\n",
    "commonly used. We then we try to achieve a high value for the power, e.g., 0.8 or 0.9, or higher, depending on the context. Achieving high power typically requires selecting a sufficiently large sample size.\n",
    "\n",
    "#### Step 3: Test Statistic\n",
    "A test statistic is a standardized value that is calculated in place of just using the sample mean. This standardizes the testing process and is mathematically more convenient.\n",
    "One such 'test statistic' is the **t** value:\n",
    "$$\n",
    "t = \\frac{\\overline{x} - m_{0}}{s * \\sqrt{n}}\n",
    "$$\n",
    ">$\\overline X$ - sample mean  \n",
    "$\\mu_0$ - population mean (Null Hypothesis)  \n",
    "$\\sigma$ - standard deviation  \n",
    "$n$ - sample size \n",
    "\n",
    "T follows something called a t distribution. Based on the $\\alpha$ decided on for the test, and the sample size, the t distribution is used to calculate a **critical value**, which t is compared to.\n",
    "\n",
    "This comparison determines the outcome of a test.\n",
    "\n",
    "For example, if $\\alpha = 0.05$ and **t > criticial value**, we would reject $H_{0}$ at significance of 0.05.\n",
    "\n",
    "#### [Optional]Step 4: Confidence Intervals\n",
    "Confidence interval is an interval calculated from the data using a rule which ensures that the interval has a certain pre-specified probability (often 95%, _1-$\\alpha$_ ) of containing the true value of the target parameter.\n",
    "\n",
    "The formula to calculate the _Confidence Interval_ is then:\n",
    "$$\n",
    "C.I. = \\overline X - (Critical \\ Value) * (\\frac{\\sigma}{\\sqrt{n}})\n",
    "$$\n",
    "> $\\overline X$ - sample mean  \n",
    "$Critical \\ Value$ - either Z or t statistic at the desired $\\alpha$  \n",
    "$\\sigma$ - standard deviation  \n",
    "$n$ - sample size\n",
    "\n",
    "\n",
    "### 1.1.3 P Value\n",
    "The **p value** is another way of deciding on the overall significance of your test outcome. It represents the probability of getting a more extreme result than what you got given the Null Hypothesis. Intuitively, if **p** is small, it indicates our test results are statistically significant.\n",
    "A commonly used value is 0.05. If p < 0.05 you can say your test result is statistically significant.\n",
    "\n",
    "### 1.1.4 Statistical Significance\n",
    "Given the above, there are 2 ways to determine the statistical significance of a test:\n",
    "\n",
    "1. Calculate test statistic (t), compare it to the critical value given a significance level ($\\alpha = 0.05$). In the case of $H_{0}: mean = 0$ and $H_{1}: mean > 0$, if t > critical value, we reject $H_{0}$ and the result is *statistically significant*. Otherwise, we fail to reject, and the result is *not statistically significant*.\n",
    "\n",
    "2. Calculate the p value, if p < 0.05, we reject $H_{0}$ and the result is *statistically significant*. Otherwise, we fail to reject, and the result is *not statistically significant*.\n",
    "\n",
    "These methods are completely equivalent. As you will see below, modern statistical testing packages will offer both versions of the result.\n",
    "\n",
    "## 1.2 Statistical Power and Sample Size Calculations\n",
    "\n",
    "In designing our experiments, one of the most important aspects is the choice of a proper sample size, too small we wont yield useful information, too large we then waste time and resources.\n",
    "\n",
    "To find an answer to our main questions in this notebook, and any research in general, we must decide which particular alternative *Hypothesis*, or *$H_{1}$*, are important to be able to detect with high ***power***.\n",
    "\n",
    "In statistics, we refer to the **power** of an experiment as the control over the *type II* error rate:\n",
    "\n",
    "> **Power = *P* (Reject *$H_{0}$* given that the alternative *$H_{1}$* holds)**  \n",
    "Also written as  \n",
    "**Power = 1 - *P* (Type II error) = 1 - $\\beta$**\n",
    "\n",
    "Power calculations are an important aspect of experimental design, as it might tell us if the results of our study are statistically significant or even if results from previous studies are incorrect.  \n",
    "\n",
    "We can perform the calculations in a variety of ways:\n",
    "* formulas\n",
    "* simulations\n",
    "* on-line calculators, *like this [one]( https://www.stat.ubc.ca/~rollin/stats/ssize/n2.html)*\n",
    "* commercial software\n",
    "\n",
    "In this notebook we’ll work with both simulations and formulas. These formulas are based on familiar assumptions such as:\n",
    "- independence in our sample data\n",
    "- normality of errors  \n",
    "- constant variance \n",
    "\n",
    "so they are often thought of as an initial rough calculation of power.\n",
    "\n",
    "The formulas we will be using are then derived from the general formula for the Z test statistic\n",
    "$$\n",
    "Z=\\frac{\\overline X - \\mu_{0}}{\\frac{\\sigma}{\\sqrt[]{n}}} \\\\\t\n",
    "$$\n",
    ">$\\overline X$ - sample mean  \n",
    "$\\mu_0$ - population mean (Null Hypothesis)  \n",
    "$\\sigma$ - standard deviation  \n",
    "$n$ - sample size  \n",
    "\n",
    "\n",
    "We algebraically manipulate the formula and allow for $Z$ to be dependent on the desired significance level $\\alpha$ for the quantile values in the Normal Distribution, $N(0,1)$. The power of the test for a mean is _increased_ by:\n",
    "\n",
    "1. Increasing the difference between the means under the\n",
    "null and alternative hypotheses ($\\mu_1 - \\mu_0$).\n",
    "2. Increasing the significance level ($\\alpha$).\n",
    "3. Decreasing the standard deviation ($\\sigma$).\n",
    "4. Increasing the sample size ($n$).\n",
    "\n",
    "### 1.2.1 One-Sample Population Calculations\n",
    "\n",
    "> $$\n",
    "\\hbox{Power} = P\\left( N(0,1) <\n",
    "\t-Z_{1 - \\alpha / 2} + \\frac{ |\\mu_1 - \\mu_0|}{ \\sigma / \\sqrt n } \\right) = \t\\Phi(-Z_{1 - \\alpha / 2} + \\frac{ |\\mu_1 - \\mu_0|}{ \\sigma / \\sqrt n } ),\n",
    "$$\n",
    "where $\\Phi$ is the cdf of the N(0,1) distribution.\n",
    "\n",
    "The sample size that is required in order to have power equal to $1-\\beta$:\n",
    "> $$\n",
    "\tn = \\frac{ \\sigma^2 (Z_{1 - \\beta} + Z_{1 - \\alpha / 2})^2}{ (\\mu_0 - \\mu_1)^2 }.\n",
    "$$\n",
    "\n",
    "### 1.2.2 Comparing Two Samples Calculations\n",
    "\n",
    "When looking at comparing 2 samples, we consider the test of $H_0:\\mu_A=\\mu_B$ versus\n",
    "$H_0:\\mu_A\\neq\\mu_B$, where $\\mu_A$ and $\\mu_B$ are\n",
    "means of two populations. Assuming a known population\n",
    "variance $\\sigma^2$ and sample sizes $n$ per group,\n",
    "test statistic is \n",
    "> $$\n",
    "Z=\\frac{|\\bar X_A - \\bar X_B|}{\\sqrt{\\sigma_A^2/n_A+\\sigma_B^2/n_B} },\n",
    "$$\n",
    "\n",
    "As a result, our power and sample size formulas become\n",
    "> $$\n",
    "\\hbox{Power} = \\Phi ( -Z_{1 - \\alpha / 2} + \\frac{|\\Delta|}{ \\sqrt{\\sigma_A^2/n_A+\\sigma_B^2/n_B}} ),\n",
    "$$  \n",
    "$$\n",
    "n = \\frac{ (\\sigma_A^2+\\sigma_B^2) (Z_{1 - \\beta} + Z_{1 - \\alpha/2})^2}{ \\Delta^2 }.\n",
    "$$\n",
    "\n",
    "Where $|\\Delta|=|\\mu_A - \\mu_B|$."
   ]
  },
  {
   "cell_type": "markdown",
   "metadata": {},
   "source": [
    "# 2. Setup\n",
    "\n",
    "We will be moving from the PANCAN dataset to the genes count data (datasets available [here](https://www.dropbox.com/sh/jke9h4km90ner9l/AAD1UyucvlXIFbKTjl-D15U6a?dl=0)) from the same five cancer types (BRCA, KIRC, COAD, LUAD, PRAD) from the TCGA projects available from the [National Cancer Institute's Genomic Data Commons](https://gdc.cancer.gov/). \n",
    "\n",
    "The we will be using the genes and metadata datasets for our statistical experiments since the metadata provides some interesting subgroups for the cancers which we can create test for. We will also use some genomic data background information from cancer from COSMIC: [Catalog Of Somatic Mutations In Cancer](https://cancer.sanger.ac.uk/). A caveat about this genes dataset, while inspired by the PANCAN dataset, it is almost double the size of the PANCAN and we will likely have to deal with this memory usage.\n",
    "\n",
    "\n",
    "\n",
    "## 2.1 Importing Python Libraries\n",
    "\n",
    "We will be using all the libraries from the previous tutorial notebook, but we will also introduce three libraries for statistics and data purposes:\n",
    "> SciPy  \n",
    "statsmodels  \n",
    "sklearn\n"
   ]
  },
  {
   "cell_type": "markdown",
   "metadata": {},
   "source": [
    "### 2.1.1 Imports\n",
    "As always, we first import all the packages we want to use before we do anything else.\n",
    "\n",
    "_Note:_\n",
    "_You will notice some extra code in the below cell besides the one importing libraries, this is for some formating for displaying outputs in this tutorial and have no extra effect on our statistical analysis (they could be omitted)._"
   ]
  },
  {
   "cell_type": "code",
   "execution_count": 1,
   "metadata": {},
   "outputs": [],
   "source": [
    "# Data Manipulation\n",
    "import pandas as pd\n",
    "import numpy as np\n",
    "\n",
    "# Statistics\n",
    "from scipy import stats\n",
    "import statsmodels.api as sm\n",
    "from statsmodels.formula.api import ols\n",
    "from sklearn.model_selection import train_test_split\n",
    "\n",
    "# visualization\n",
    "import altair as alt\n",
    "import matplotlib.pyplot as plt\n",
    "import seaborn as sns\n",
    "\n",
    "# setting up the plot style\n",
    "plt.style.use('ggplot')\n",
    "%matplotlib inline\n"
   ]
  },
  {
   "cell_type": "code",
   "execution_count": 2,
   "metadata": {},
   "outputs": [
    {
     "data": {
      "text/html": [
       "<style>td {font-size: 15px}</style>\n"
      ],
      "text/plain": [
       "<IPython.core.display.HTML object>"
      ]
     },
     "metadata": {},
     "output_type": "display_data"
    }
   ],
   "source": [
    "%%HTML\n",
    "<style>td {font-size: 15px}</style>"
   ]
  },
  {
   "cell_type": "markdown",
   "metadata": {},
   "source": [
    "Now, for our statistical tests we will primarily be taking advantage of the functions in the *SciPy* and *statsmodels* libraries, as these have prepackaged functions specialized in statistics. One thing to noticed is that we have two import statements for the *statsmodels* API, the **statsmodels.api** imports the functions we will be using, the [**statsmodels.formula.api**](https://www.statsmodels.org/devel/example_formulas.html) allows us to work with _”R-style”_ formulas within python."
   ]
  },
  {
   "cell_type": "markdown",
   "metadata": {},
   "source": [
    "### 2.1.2 Load TCGA Data\n",
    "\n",
    "Ok so as we know from the Novice Tutorial, we have a very large dataset and could possibly lead to large memory usage. We will use our *metadata.csv* file to create a smaller subset that we hope will contain a representation of the larger dataset. We could go ahead and subset the genes dataset the same way we did in the Novice Notebook, however we have the possibility of not obtaining an sample representative of the dataset. The great thing about our large dataset, this gives us a pseudo way of replicating how we might go about performing a real statistical experiment.\n",
    "\n",
    "We will follow the same process as we did in the Novice Notebook so we will just put it into a python function so we can reuse it later if needed it.\n"
   ]
  },
  {
   "cell_type": "code",
   "execution_count": 3,
   "metadata": {},
   "outputs": [],
   "source": [
    "def create_genes_subset(split_size=.1):\n",
    "    \"\"\"\n",
    "        Creates a smaller dataframe from the large 'genes.csv' file based on a split from the metadata file.\n",
    "        Returns a dataframe that has been transformed by log2 and the index needed for the remaining samples\n",
    "        from the genes.csv file to remain independent.\n",
    "    \n",
    "    \"\"\"\n",
    "    \n",
    "    metadata = pd.read_csv('../../metadata.csv')\n",
    "    \n",
    "    big_split, small_split = train_test_split(metadata, test_size=split_size, random_state=4)\n",
    "    \n",
    "    skiplines_small = np.sort(big_split.index) + 1 \n",
    "    skiplines_big = np.sort(small_split.index) + 1\n",
    "    \n",
    "    genes_small = pd.read_csv('../../genes.csv', skiprows=skiplines_small)\n",
    "    \n",
    "    genes_nonAllZero = genes_small.loc[:,~genes_small.isin([0]).all(axis=0)]\n",
    "    \n",
    "    genes_log2_trans = np.log2(genes_nonAllZero.iloc[:,1:] + 1)\n",
    "    genes_log2_trans['barcode'] = genes_small['barcode']\n",
    "    \n",
    "    genes_merged = pd.merge(left=small_split, right=genes_log2_trans, how='left', left_on='barcode', right_on='barcode')\n",
    "    \n",
    "    # Releasing memory by deleting dataframes\n",
    "    del genes_small, genes_nonAllZero, genes_log2_trans, skiplines_small, skiplines_big\n",
    "    \n",
    "    return genes_merged, big_split, small_split"
   ]
  },
  {
   "cell_type": "markdown",
   "metadata": {},
   "source": [
    "We have the function to return the smaller subset from the larger *genes.csv*. This is very useful as we can create a pseudo version of what it would be to have design an experiment. Given we are trying to figure out sample size and power, often use a value for the standard deviation from a previous study or a study done in a different, but comparable, population. This way we can approximate this type of scenario."
   ]
  },
  {
   "cell_type": "code",
   "execution_count": 4,
   "metadata": {},
   "outputs": [
    {
     "data": {
      "text/html": [
       "<div>\n",
       "<style scoped>\n",
       "    .dataframe tbody tr th:only-of-type {\n",
       "        vertical-align: middle;\n",
       "    }\n",
       "\n",
       "    .dataframe tbody tr th {\n",
       "        vertical-align: top;\n",
       "    }\n",
       "\n",
       "    .dataframe thead th {\n",
       "        text-align: right;\n",
       "    }\n",
       "</style>\n",
       "<table border=\"1\" class=\"dataframe\">\n",
       "  <thead>\n",
       "    <tr style=\"text-align: right;\">\n",
       "      <th></th>\n",
       "      <th>barcode</th>\n",
       "      <th>shortLetterCode</th>\n",
       "      <th>tumor_stage</th>\n",
       "      <th>age_at_diagnosis</th>\n",
       "      <th>year_of_diagnosis</th>\n",
       "      <th>alcohol_history</th>\n",
       "      <th>race</th>\n",
       "      <th>ethnicity</th>\n",
       "      <th>gender</th>\n",
       "      <th>vital_status</th>\n",
       "      <th>...</th>\n",
       "      <th>ENSG00000281880</th>\n",
       "      <th>ENSG00000281883</th>\n",
       "      <th>ENSG00000281887</th>\n",
       "      <th>ENSG00000281896</th>\n",
       "      <th>ENSG00000281903</th>\n",
       "      <th>ENSG00000281904</th>\n",
       "      <th>ENSG00000281909</th>\n",
       "      <th>ENSG00000281910</th>\n",
       "      <th>ENSG00000281912</th>\n",
       "      <th>ENSG00000281920</th>\n",
       "    </tr>\n",
       "  </thead>\n",
       "  <tbody>\n",
       "    <tr>\n",
       "      <th>0</th>\n",
       "      <td>TCGA-YL-A8HJ-01A-11R-A36G-07</td>\n",
       "      <td>TP</td>\n",
       "      <td>not reported</td>\n",
       "      <td>21416.0</td>\n",
       "      <td>2009.0</td>\n",
       "      <td>Not Reported</td>\n",
       "      <td>white</td>\n",
       "      <td>not hispanic or latino</td>\n",
       "      <td>male</td>\n",
       "      <td>Alive</td>\n",
       "      <td>...</td>\n",
       "      <td>0.0</td>\n",
       "      <td>9.514700</td>\n",
       "      <td>0.000000</td>\n",
       "      <td>16.623075</td>\n",
       "      <td>11.229908</td>\n",
       "      <td>0.000000</td>\n",
       "      <td>0.000000</td>\n",
       "      <td>11.648106</td>\n",
       "      <td>14.595309</td>\n",
       "      <td>10.197190</td>\n",
       "    </tr>\n",
       "    <tr>\n",
       "      <th>1</th>\n",
       "      <td>TCGA-OL-A66K-01A-11R-A29R-07</td>\n",
       "      <td>TP</td>\n",
       "      <td>stage iia</td>\n",
       "      <td>26299.0</td>\n",
       "      <td>2010.0</td>\n",
       "      <td>Not Reported</td>\n",
       "      <td>white</td>\n",
       "      <td>not hispanic or latino</td>\n",
       "      <td>female</td>\n",
       "      <td>Dead</td>\n",
       "      <td>...</td>\n",
       "      <td>0.0</td>\n",
       "      <td>0.000000</td>\n",
       "      <td>7.541357</td>\n",
       "      <td>15.186443</td>\n",
       "      <td>10.850017</td>\n",
       "      <td>7.744871</td>\n",
       "      <td>10.110324</td>\n",
       "      <td>0.000000</td>\n",
       "      <td>14.185199</td>\n",
       "      <td>11.460256</td>\n",
       "    </tr>\n",
       "    <tr>\n",
       "      <th>2</th>\n",
       "      <td>TCGA-D8-A1X7-01A-11R-A14M-07</td>\n",
       "      <td>TP</td>\n",
       "      <td>stage iia</td>\n",
       "      <td>14858.0</td>\n",
       "      <td>2010.0</td>\n",
       "      <td>Not Reported</td>\n",
       "      <td>white</td>\n",
       "      <td>not hispanic or latino</td>\n",
       "      <td>female</td>\n",
       "      <td>Alive</td>\n",
       "      <td>...</td>\n",
       "      <td>0.0</td>\n",
       "      <td>7.371455</td>\n",
       "      <td>0.000000</td>\n",
       "      <td>16.080059</td>\n",
       "      <td>11.664703</td>\n",
       "      <td>0.000000</td>\n",
       "      <td>0.000000</td>\n",
       "      <td>11.083273</td>\n",
       "      <td>12.384756</td>\n",
       "      <td>10.953567</td>\n",
       "    </tr>\n",
       "  </tbody>\n",
       "</table>\n",
       "<p>3 rows × 54630 columns</p>\n",
       "</div>"
      ],
      "text/plain": [
       "                        barcode shortLetterCode   tumor_stage  \\\n",
       "0  TCGA-YL-A8HJ-01A-11R-A36G-07              TP  not reported   \n",
       "1  TCGA-OL-A66K-01A-11R-A29R-07              TP     stage iia   \n",
       "2  TCGA-D8-A1X7-01A-11R-A14M-07              TP     stage iia   \n",
       "\n",
       "   age_at_diagnosis  year_of_diagnosis alcohol_history   race  \\\n",
       "0           21416.0             2009.0    Not Reported  white   \n",
       "1           26299.0             2010.0    Not Reported  white   \n",
       "2           14858.0             2010.0    Not Reported  white   \n",
       "\n",
       "                ethnicity  gender vital_status  ...  ENSG00000281880  \\\n",
       "0  not hispanic or latino    male        Alive  ...              0.0   \n",
       "1  not hispanic or latino  female         Dead  ...              0.0   \n",
       "2  not hispanic or latino  female        Alive  ...              0.0   \n",
       "\n",
       "   ENSG00000281883  ENSG00000281887 ENSG00000281896  ENSG00000281903  \\\n",
       "0         9.514700         0.000000       16.623075        11.229908   \n",
       "1         0.000000         7.541357       15.186443        10.850017   \n",
       "2         7.371455         0.000000       16.080059        11.664703   \n",
       "\n",
       "   ENSG00000281904  ENSG00000281909  ENSG00000281910  ENSG00000281912  \\\n",
       "0         0.000000         0.000000        11.648106        14.595309   \n",
       "1         7.744871        10.110324         0.000000        14.185199   \n",
       "2         0.000000         0.000000        11.083273        12.384756   \n",
       "\n",
       "   ENSG00000281920  \n",
       "0        10.197190  \n",
       "1        11.460256  \n",
       "2        10.953567  \n",
       "\n",
       "[3 rows x 54630 columns]"
      ]
     },
     "execution_count": 4,
     "metadata": {},
     "output_type": "execute_result"
    }
   ],
   "source": [
    "# load the data from function, we need to set up the correct variable names since 2 things are returned\n",
    "genes_small_log2, big_meta, small_meta = create_genes_subset()\n",
    "\n",
    "# check out dataset\n",
    "genes_small_log2.head(3)"
   ]
  },
  {
   "cell_type": "markdown",
   "metadata": {},
   "source": [
    "Great!!! Now we have both our gene count data but also some demographics attached to them. Let's do some extra data cleaning and preping for us to jump into hypothesis testing, this step is also known as[ _feature engineering_](https://en.wikipedia.org/wiki/Feature_engineering) in Data Science. Notice that `age_at_diagnosis` contains very large numbers, this is due to the age being in terms of days, so let's conver that column into years instead."
   ]
  },
  {
   "cell_type": "code",
   "execution_count": 5,
   "metadata": {},
   "outputs": [
    {
     "data": {
      "text/html": [
       "<div>\n",
       "<style scoped>\n",
       "    .dataframe tbody tr th:only-of-type {\n",
       "        vertical-align: middle;\n",
       "    }\n",
       "\n",
       "    .dataframe tbody tr th {\n",
       "        vertical-align: top;\n",
       "    }\n",
       "\n",
       "    .dataframe thead th {\n",
       "        text-align: right;\n",
       "    }\n",
       "</style>\n",
       "<table border=\"1\" class=\"dataframe\">\n",
       "  <thead>\n",
       "    <tr style=\"text-align: right;\">\n",
       "      <th></th>\n",
       "      <th>barcode</th>\n",
       "      <th>shortLetterCode</th>\n",
       "      <th>tumor_stage</th>\n",
       "      <th>age_at_diagnosis</th>\n",
       "      <th>year_of_diagnosis</th>\n",
       "      <th>alcohol_history</th>\n",
       "      <th>race</th>\n",
       "      <th>ethnicity</th>\n",
       "      <th>gender</th>\n",
       "      <th>vital_status</th>\n",
       "      <th>...</th>\n",
       "      <th>ENSG00000281883</th>\n",
       "      <th>ENSG00000281887</th>\n",
       "      <th>ENSG00000281896</th>\n",
       "      <th>ENSG00000281903</th>\n",
       "      <th>ENSG00000281904</th>\n",
       "      <th>ENSG00000281909</th>\n",
       "      <th>ENSG00000281910</th>\n",
       "      <th>ENSG00000281912</th>\n",
       "      <th>ENSG00000281920</th>\n",
       "      <th>age_at_diagnosis_years</th>\n",
       "    </tr>\n",
       "  </thead>\n",
       "  <tbody>\n",
       "    <tr>\n",
       "      <th>0</th>\n",
       "      <td>TCGA-YL-A8HJ-01A-11R-A36G-07</td>\n",
       "      <td>TP</td>\n",
       "      <td>not reported</td>\n",
       "      <td>21416.0</td>\n",
       "      <td>2009.0</td>\n",
       "      <td>Not Reported</td>\n",
       "      <td>white</td>\n",
       "      <td>not hispanic or latino</td>\n",
       "      <td>male</td>\n",
       "      <td>Alive</td>\n",
       "      <td>...</td>\n",
       "      <td>9.514700</td>\n",
       "      <td>0.000000</td>\n",
       "      <td>16.623075</td>\n",
       "      <td>11.229908</td>\n",
       "      <td>0.000000</td>\n",
       "      <td>0.000000</td>\n",
       "      <td>11.648106</td>\n",
       "      <td>14.595309</td>\n",
       "      <td>10.197190</td>\n",
       "      <td>59.0</td>\n",
       "    </tr>\n",
       "    <tr>\n",
       "      <th>1</th>\n",
       "      <td>TCGA-OL-A66K-01A-11R-A29R-07</td>\n",
       "      <td>TP</td>\n",
       "      <td>stage iia</td>\n",
       "      <td>26299.0</td>\n",
       "      <td>2010.0</td>\n",
       "      <td>Not Reported</td>\n",
       "      <td>white</td>\n",
       "      <td>not hispanic or latino</td>\n",
       "      <td>female</td>\n",
       "      <td>Dead</td>\n",
       "      <td>...</td>\n",
       "      <td>0.000000</td>\n",
       "      <td>7.541357</td>\n",
       "      <td>15.186443</td>\n",
       "      <td>10.850017</td>\n",
       "      <td>7.744871</td>\n",
       "      <td>10.110324</td>\n",
       "      <td>0.000000</td>\n",
       "      <td>14.185199</td>\n",
       "      <td>11.460256</td>\n",
       "      <td>72.0</td>\n",
       "    </tr>\n",
       "    <tr>\n",
       "      <th>2</th>\n",
       "      <td>TCGA-D8-A1X7-01A-11R-A14M-07</td>\n",
       "      <td>TP</td>\n",
       "      <td>stage iia</td>\n",
       "      <td>14858.0</td>\n",
       "      <td>2010.0</td>\n",
       "      <td>Not Reported</td>\n",
       "      <td>white</td>\n",
       "      <td>not hispanic or latino</td>\n",
       "      <td>female</td>\n",
       "      <td>Alive</td>\n",
       "      <td>...</td>\n",
       "      <td>7.371455</td>\n",
       "      <td>0.000000</td>\n",
       "      <td>16.080059</td>\n",
       "      <td>11.664703</td>\n",
       "      <td>0.000000</td>\n",
       "      <td>0.000000</td>\n",
       "      <td>11.083273</td>\n",
       "      <td>12.384756</td>\n",
       "      <td>10.953567</td>\n",
       "      <td>41.0</td>\n",
       "    </tr>\n",
       "  </tbody>\n",
       "</table>\n",
       "<p>3 rows × 54631 columns</p>\n",
       "</div>"
      ],
      "text/plain": [
       "                        barcode shortLetterCode   tumor_stage  \\\n",
       "0  TCGA-YL-A8HJ-01A-11R-A36G-07              TP  not reported   \n",
       "1  TCGA-OL-A66K-01A-11R-A29R-07              TP     stage iia   \n",
       "2  TCGA-D8-A1X7-01A-11R-A14M-07              TP     stage iia   \n",
       "\n",
       "   age_at_diagnosis  year_of_diagnosis alcohol_history   race  \\\n",
       "0           21416.0             2009.0    Not Reported  white   \n",
       "1           26299.0             2010.0    Not Reported  white   \n",
       "2           14858.0             2010.0    Not Reported  white   \n",
       "\n",
       "                ethnicity  gender vital_status  ...  ENSG00000281883  \\\n",
       "0  not hispanic or latino    male        Alive  ...         9.514700   \n",
       "1  not hispanic or latino  female         Dead  ...         0.000000   \n",
       "2  not hispanic or latino  female        Alive  ...         7.371455   \n",
       "\n",
       "   ENSG00000281887  ENSG00000281896 ENSG00000281903  ENSG00000281904  \\\n",
       "0         0.000000        16.623075       11.229908         0.000000   \n",
       "1         7.541357        15.186443       10.850017         7.744871   \n",
       "2         0.000000        16.080059       11.664703         0.000000   \n",
       "\n",
       "   ENSG00000281909  ENSG00000281910  ENSG00000281912  ENSG00000281920  \\\n",
       "0         0.000000        11.648106        14.595309        10.197190   \n",
       "1        10.110324         0.000000        14.185199        11.460256   \n",
       "2         0.000000        11.083273        12.384756        10.953567   \n",
       "\n",
       "   age_at_diagnosis_years  \n",
       "0                    59.0  \n",
       "1                    72.0  \n",
       "2                    41.0  \n",
       "\n",
       "[3 rows x 54631 columns]"
      ]
     },
     "execution_count": 5,
     "metadata": {},
     "output_type": "execute_result"
    }
   ],
   "source": [
    "# making a copy of the dataframe in case something goes wrong\n",
    "data = genes_small_log2.copy()\n",
    "\n",
    "# Make a age_at_diagnosis_years column by dividing by 365 and rounding with np.rint()\n",
    "# there are about 365.25 days in an Earth year according to NASA\n",
    "data['age_at_diagnosis_years'] = np.rint(data['age_at_diagnosis'] / 365.25)\n",
    "\n",
    "# check output\n",
    "data.head(3)"
   ]
  },
  {
   "cell_type": "markdown",
   "metadata": {},
   "source": [
    "Great, now we have actual years at the age of diagnosis for the patients. With greater domain knowledge in the field, we can further work on more _feature engineering_ as we see fit, but for now this will suffice for our tutorial purposes.\n",
    "\n",
    "Let us actually visualize the distribution of the `age_at_diagnosis_years` values by cancer type we just computed, it will come in handy later in the tutorial."
   ]
  },
  {
   "cell_type": "code",
   "execution_count": 7,
   "metadata": {},
   "outputs": [
    {
     "data": {
      "image/png": "[encoded data removed]",
      "text/plain": [
       "<Figure size 1080x432 with 1 Axes>"
      ]
     },
     "metadata": {
      "needs_background": "light"
     },
     "output_type": "display_data"
    }
   ],
   "source": [
    "# setting figure parameters\n",
    "fig_dims = (15, 6)\n",
    "fig, ax = plt.subplots(figsize=fig_dims)\n",
    "\n",
    "sns.kdeplot(data=data, x='age_at_diagnosis_years', hue='cancer_type',\n",
    "           fill=True, alpha=.2, ax=ax)\n",
    "plt.title('Distribution of Age at Diagnosis of Patients')\n",
    "plt.xlabel('Age at diagnosis (years)')\n",
    "plt.savefig('../3-Outputs/age_distribution.png')\n",
    "plt.show()"
   ]
  },
  {
   "cell_type": "markdown",
   "metadata": {},
   "source": [
    "# 3. Hypothesis Testing\n",
    "\n",
    "We’ll now go through some examples of how to perform 3 types of hypothesis tests: _One Sample T test or Z test,  Two Sample T test, and Analysis Of Variance._\n",
    "\n",
    "## 3.1 One Sample\n",
    "Say you want to answer the question\n",
    "\n",
    "> Question1:\n",
    ">\n",
    "> Is the mean _age (in years) at diagnosis_ for 'KIRC' (kidney) cancer equal to 55?\n",
    "\n",
    "### 3.1.1 One Sample T test\n",
    "To tackle this, let's do a two-sided t test on the mean. A two-sided test simply means the alternative hypothesis does not care which way the mean differs from the selected value.\n",
    "\n",
    "> $H_{0}: mean = 55$\n",
    ">\n",
    "> $H_{1}: mean \\neq 55$\n",
    ">\n",
    "> $\\alpha = 0.05$\n",
    "\n",
    "We will compute the _t-value_ for the test by both first calculating it using the formula and by then using an existing function from the SciPy stats package. This way we will be able to compare and check our answers and then we'll be able to use one or the other depending on what we prefer.\n",
    "\n",
    "Let's do a test with the hypotheses above for all samples of 'KIRC' cancer type."
   ]
  },
  {
   "cell_type": "code",
   "execution_count": 8,
   "metadata": {},
   "outputs": [
    {
     "name": "stdout",
     "output_type": "stream",
     "text": [
      "t-statistic: 4.422323 \n",
      "p-value : 0.000038\n"
     ]
    }
   ],
   "source": [
    "# get subset for only the KIRC values\n",
    "kirc_data = data.loc[data.cancer_type=='KIRC']\n",
    "\n",
    "mu_k_age = np.mean(kirc_data['age_at_diagnosis_years']) # mean age of the KIRC data\n",
    "sd_k_age = np.std(kirc_data['age_at_diagnosis_years'], ddof=1) # standard Dev of age for KIRC data, needs ddof = 1 for sample\n",
    "n_k = len(kirc_data) # number of samples in KIRC data\n",
    "\n",
    "t = (mu_k_age - 55)/(sd_k_age/np.sqrt(n_k)) # calculating the t-statitic value from formula\n",
    "pval = 2*(1 - stats.t.cdf(np.abs(t), df=n_k-1)) # two-sided pvalue\n",
    "\n",
    "print('t-statistic: {0:5f} \\np-value : {1:5f}'.format(t, pval))"
   ]
  },
  {
   "cell_type": "code",
   "execution_count": 9,
   "metadata": {},
   "outputs": [
    {
     "data": {
      "text/plain": [
       "Ttest_1sampResult(statistic=4.422322578447855, pvalue=3.7988529231288875e-05)"
      ]
     },
     "execution_count": 9,
     "metadata": {},
     "output_type": "execute_result"
    }
   ],
   "source": [
    "# Call the 1 sample t test function from SciPy\n",
    "stats.ttest_1samp(kirc_data.age_at_diagnosis_years, popmean=55)"
   ]
  },
  {
   "cell_type": "markdown",
   "metadata": {},
   "source": [
    "We see that we get the same values from both methods for both the __`test statistic = 4.422`__ and the __`p-value = 0.0004`__. At this point we might feel compel to look at the _p-value_ and interpret the value of our test, but we must hold on as we must always check the assumptions for our test. We also want to check for the __Type I__ error and __power__ or __Type II__ error for this type of test. For now we'll address the _Type I_ error and leave the _Type II_ for a later section in this tutorial.\n",
    "\n",
    "For the _One Sample T test_ to be valid, either of the following must hold: \n",
    "1. The population distribution is normal. \n",
    "    - _We can do a rough check visualy by either plotting the distibution or using a Q-Q plot_\n",
    "2. The sample size is sufficiently large.\n",
    "    - _By tradition we tend to assume that sample sizes n > 30, we have a large enough sample size_\n",
    "\n",
    "For this test, we know that the sample size of the independent sample is 66, so already that is satisfied, but let's also check the plots to make sure we can see the _Normal Distribution_ in both the histogram and Q-Q plot."
   ]
  },
  {
   "cell_type": "code",
   "execution_count": 17,
   "metadata": {},
   "outputs": [
    {
     "name": "stderr",
     "output_type": "stream",
     "text": [
      "/home/juansolo/anaconda3/envs/data558/lib/python3.7/site-packages/seaborn/distributions.py:2557: FutureWarning: `distplot` is a deprecated function and will be removed in a future version. Please adapt your code to use either `displot` (a figure-level function with similar flexibility) or `histplot` (an axes-level function for histograms).\n",
      "  warnings.warn(msg, FutureWarning)\n"
     ]
    },
    {
     "data": {
      "image/png": "[encoded data removed]",
      "text/plain": [
       "<Figure size 1080x432 with 2 Axes>"
      ]
     },
     "metadata": {
      "needs_background": "light"
     },
     "output_type": "display_data"
    },
    {
     "data": {
      "text/plain": [
       "<Figure size 432x288 with 0 Axes>"
      ]
     },
     "metadata": {},
     "output_type": "display_data"
    }
   ],
   "source": [
    "# setting figure parameters for size\n",
    "fig_dims = (15, 6)\n",
    "fig, ax = plt.subplots(1,2,figsize=fig_dims)\n",
    "\n",
    "#Distribution from seaborn\n",
    "sns.distplot(kirc_data['age_at_diagnosis_years'], kde=True, ax=ax[0])\n",
    "ax[0].set_title('KIRC Distribution of age at diagnosis')\n",
    "ax[0].set(xlabel=\"Age at diagnosis (years)\")\n",
    "\n",
    "#QQ-plot plot from stats\n",
    "stats.probplot(kirc_data['age_at_diagnosis_years'], dist=\"norm\", plot=ax[1])\n",
    "\n",
    "fig.suptitle('Visual Tests for Validity of T test on KIRC samples', fontsize=16)\n",
    "plt.show()\n",
    "plt.savefig('../3-Outputs/kirc_ttest_valid.png')"
   ]
  },
  {
   "cell_type": "markdown",
   "metadata": {},
   "source": [
    "We see that it is both fairly normally distributed on the histogram/distribution plot, and that the values land in the Q-Q plot on the normality line.\n",
    "\n",
    "Now to test the Type I error, we will do a _Simulation Study_ with the mean of the random distribution equal to the __$H_{0}: \\mu=55$__ and the _standard deviation_ of the original \"KIRC\" data.\n",
    "\n",
    "What we are trying to accomplish with the simulation study is to figure out the \"probability\" of randomly erroneously rejecting the null hypothesis (*Type I Error*), by calculating how many times out of the total simulations fall out of our critical value. We want our _probability_ to be close or under the $\\alpha$ value specified (usually *0.05*)."
   ]
  },
  {
   "cell_type": "code",
   "execution_count": 18,
   "metadata": {},
   "outputs": [],
   "source": [
    "def one_sample_simulation_values(N,n,mu,mu_0,sd_0,alpha=.95):\n",
    "    \"\"\"\n",
    "        Runs Monte-Carlo simulations for a Normal Distribution of the described mean and standard dev. \n",
    "    \n",
    "    \"\"\"\n",
    "    sims = []\n",
    "    for i in range(N):\n",
    "        \n",
    "        # we can use either numpy or scipy.stats to create a sample of size n from a distribution\n",
    "        samples_0 = np.random.normal(loc=mu_0, scale=sd_0, size=n)\n",
    "        \n",
    "        \n",
    "        critical_value = stats.t.ppf(alpha, n-1)\n",
    "        t = (np.mean(samples_0) - mu)/(np.std(samples_0,ddof=1)/np.sqrt(n))\n",
    "        sims.append(np.abs(t) > np.abs(critical_value))\n",
    "    \n",
    "    return np.array(sims)"
   ]
  },
  {
   "cell_type": "code",
   "execution_count": 19,
   "metadata": {},
   "outputs": [
    {
     "name": "stdout",
     "output_type": "stream",
     "text": [
      "Observed Alpha = 0.047600\n"
     ]
    }
   ],
   "source": [
    "# we set a 'seed' number so that we can reproduce the random variable\n",
    "np.random.seed(2)\n",
    "\n",
    "# Checking the Type I error value from simulations\n",
    "# we use mean to calculate this from the array returned by the function\n",
    "print(\"Observed Alpha = {0:5f}\".\n",
    "      format(np.mean(one_sample_simulation_values(N=5000,n=n_k,mu=55,mu_0=55,sd_0=sd_k_age,alpha=.025))))"
   ]
  },
  {
   "cell_type": "markdown",
   "metadata": {},
   "source": [
    "The Type I error rate is close to 0.05, agreeing with the theory quite well. Had we not gotten a value that met theory, we would need to use a different type of statistical test for our hypothesis.\n",
    "\n",
    "Now we can say by looking at the output from the hypothesis tests, the __`p-value = 0.0004`__ is << 0.05, the interpretation is that under the null hypothesis _mean age at diagnosis = 55_ , the probability of seeing a test statistic as extreme or more than what’s observed is __0.0004__ . Since this is less than our significance level of 0.05, we reject the null hypothesis. _mean age at diagnosis = 55._ "
   ]
  },
  {
   "cell_type": "markdown",
   "metadata": {},
   "source": [
    "#### One sided interpretation\n",
    "The test above tells us that the mean _age at diagnosis_ is unlikely to be equal to 55, but what if we want to test whether the mean is specifically *greater than*  55? A one sided test has an alternative hypothesis that only goes one way:\n",
    "\n",
    "> $H_{0}: mean = 55$\n",
    ">\n",
    "> $H_{1}: mean \\gt 55$\n",
    "\n",
    "As described in the background section, t is compared to the value of the t distribution at a certain point (the critical value). \n",
    "\n",
    "When doing a 'greater than' test, we reject the $H_{0}$ if t > critical value. \n",
    "\n",
    "When doing a 'less than' test, we reject the $H_{0}$ if t < critical value.\n",
    "\n",
    "Since the t distribution is symmetrical around 0, the p value of the 'two sided' test we did before is simply 2 times the p value of either one sided test. \n",
    "\n",
    "&nbsp;\n",
    "\n",
    "To interpret the results above for our one sided hypothesis test, we just need to observe:\n",
    "1. The sign of the test statistic\n",
    "2. P value divided by 2\n",
    "\n",
    "&nbsp;\n",
    "\n",
    "If  $H_{1}: mean \\gt x$\n",
    "\n",
    "The following is needed to reject the Null\n",
    "\n",
    "- t > 0 \n",
    "- (p/2) < $\\alpha$ \n",
    "\n",
    "&nbsp;\n",
    "\n",
    "If  $H_{1}: mean \\lt x$\n",
    "\n",
    "The following is needed to reject the Null\n",
    "\n",
    "- t < 0 \n",
    "- (p/2) < $\\alpha$ \n",
    "\n",
    "&nbsp;\n",
    "\n",
    "The results from the t test we did above have a t > 0, and (p/2) < 0.05.\n",
    "\n",
    "Since we want to use it as a one sided test with $H_{1}: mean > 55$, these results reject $H_{0}$\n",
    "\n"
   ]
  },
  {
   "cell_type": "markdown",
   "metadata": {},
   "source": [
    "### 3.1.2 Z test\n",
    "Another test statistic that can be used for the one sample hypothesis testing is **z**. \n",
    "\n",
    "The formula for this is very similar to the t statistic:\n",
    "\n",
    "$$\n",
    "z = \\frac{\\overline{x} - m_{0}}{v * \\sqrt{n}}\n",
    "$$\n",
    "\n",
    "The difference is that in place of the standard deviation of the sample, we use the variance of the population. This alternate test statistic can be used in situations where you know this information.\n",
    "\n",
    "&nbsp;\n",
    "\n",
    "Let's look at ___KIRC data___ again and test the following using the z statistic:\n",
    "\n",
    "> $H_{0}: mean_{age \\ at \\ diagnosis} = 55$\n",
    ">\n",
    "> $H_{1}: mean_{age \\ at \\ diagnosis}\\gt 55$\n",
    ">\n",
    "> $\\alpha = 0.05$\n",
    "\n",
    "The scipy stats package doesn't offer a simple z test function, so let's use the statsmodels package:"
   ]
  },
  {
   "cell_type": "code",
   "execution_count": 20,
   "metadata": {},
   "outputs": [
    {
     "data": {
      "text/plain": [
       "(4.422322578447855, 4.8822762370859695e-06)"
      ]
     },
     "execution_count": 20,
     "metadata": {},
     "output_type": "execute_result"
    }
   ],
   "source": [
    "# SciPy z test, 'value' refers to the mean we are testing\n",
    "sm.stats.ztest(kirc_data.age_at_diagnosis_years, value = 55, alternative = 'larger')"
   ]
  },
  {
   "cell_type": "markdown",
   "metadata": {},
   "source": [
    "Since z > 0 and p < $\\alpha$, we reject that the mean age at diagnosis = 55. It is likely that the population mean is greater than 55, and we reject the null hypothesis at a 5% significance level. \n",
    "\n",
    "### 3.1.3 Confidence Intervals\n",
    "Remember that Confidence intervals and hypothesis tests complement each other. We can think of the confidence interval as containing all the values that would not have been rejected by a corresponding hypothesis test. The confidence interval and hypothesis test complement each other, in most applications, it is a good idea to report the results of both.\n",
    "\n",
    "So let's calculate the _Confidence Interval_ for our _\"KIRC\"_ data at the $\\alpha=0.05$ level."
   ]
  },
  {
   "cell_type": "code",
   "execution_count": 21,
   "metadata": {},
   "outputs": [],
   "source": [
    "def confidence_interval(sample, alpha=0.05):\n",
    "    \"\"\"\n",
    "        computes the confidence interval for the provided sample and alpha value, alpha is 0.05 by default.\n",
    "    \"\"\"\n",
    "    n = len(sample)\n",
    "    mu = np.mean(sample)\n",
    "    sd = np.std(sample)\n",
    "    return mu + stats.t.ppf(np.array([alpha/2, 1 - alpha/2]), df=n-1) * (sd/np.sqrt(n))"
   ]
  },
  {
   "cell_type": "code",
   "execution_count": 22,
   "metadata": {},
   "outputs": [
    {
     "name": "stdout",
     "output_type": "stream",
     "text": [
      "The Lower Bound of the C.I. = 59.046757 , the Upper Bound of the C.I. = 65.619910\n"
     ]
    }
   ],
   "source": [
    "# computing confidence interval for KIRC data\n",
    "lb, ub = confidence_interval(kirc_data.age_at_diagnosis_years)\n",
    "print(\"The Lower Bound of the C.I. = {0:2f} , the Upper Bound of the C.I. = {1:2f}\".format(lb, ub))"
   ]
  },
  {
   "cell_type": "markdown",
   "metadata": {},
   "source": [
    "We see that the _Null Hypothesis_ value for the _mean age at diagnosis = 55_ is outside the bounds of the _Confidence Interval_ , agreeing that we should reject the _Null Hypothesis_ .   "
   ]
  },
  {
   "cell_type": "markdown",
   "metadata": {},
   "source": [
    "## 3.2 T Test on two samples\n",
    "So far we've only asked questions about the mean of the underlying population for one sample. More often you might want to compare two samples.\n",
    "\n",
    "Let's say you want to answer the following:\n",
    "\n",
    "> Question 2:\n",
    ">\n",
    "> Is the mean _age (years) of diagnosis_ different between people with _Colon Cancer (COAD)_ versus people with _Kidney Cancer KIRC_ ?\n",
    "\n",
    "The hypotheses would look like this:\n",
    "\n",
    "> $H_{0}: mean_{COAD} = mean_{KIRC}$\n",
    ">\n",
    "> $H_{1}: mean_{COAD} \\neq mean_{KIRC}$\n",
    "> \n",
    "> $\\alpha = 0.05$\n",
    "\n",
    "Without getting into the formulas, which we already saw in the first section of this notebook, a test on two samples follows a similar process to one sample tests - a test statistic is computed and compared to critical values.\n",
    "\n",
    "&nbsp;\n",
    "\n",
    "**NOTE: The tests depend on how the samples relate to each other**\n",
    "\n",
    "- Are the samples paired?\n",
    " - (e.g. If the two samples represent the same patients over two visits, then each value in one sample is 'paired' with a value in the other sample)\n",
    "- Are the samples independent?\n",
    "- Are the sample variances the same?\n",
    "\n",
    "&nbsp;\n",
    "\n",
    "Our data to answer Question 2 consists of the samples with the PRAD label and those with the LUAD label. These two groups are not paired, and they are independent. We will assume they have equal variance.\n",
    "\n",
    "Let's use the SciPy function for two independent sample t test, it takes both samples as arguments. We should note that the function by default assumes equal variance, meaning that this would be a [_\"Student's t-test\"_](https://en.wikipedia.org/wiki/Student%27s_t-test) while if we set the `equal_var` to _False_ then we have a [_\"Welch t-test\"_](https://en.wikipedia.org/wiki/Welch%27s_t-test)(or _\"unequal variances t-test\"_ ).\n",
    "\n",
    "We will use the _Welch t-test_ , both the _Student t-test_ and _Welch t-test_ calculate the same result when equal size and variance can be assumed for the samples, but the _Welch t-test_ performs better than _Student t-test_ whenever sample sizes and variances are unequal between the samples. "
   ]
  },
  {
   "cell_type": "code",
   "execution_count": 23,
   "metadata": {},
   "outputs": [
    {
     "name": "stdout",
     "output_type": "stream",
     "text": [
      "COAD mean age at diagnosis: 66.793103 \t PRAD mean age at diagnosis: 61.126984, \n",
      "test statistic: 3.111771 \t p-value: 0.002494\n"
     ]
    }
   ],
   "source": [
    "# Select samples with PRAD and COAD, .isna() is used here to make sure to drop any nan values\n",
    "prad = data.loc[(data['cancer_type'] == 'PRAD')&(~data.age_at_diagnosis_years.isna())]\n",
    "coad = data.loc[(data['cancer_type'] == 'COAD')&(~data.age_at_diagnosis_years.isna())]\n",
    "\n",
    "# Call the two sample t test function from scipy, and set 'equal_var' to False\n",
    "tstat, pval = stats.ttest_ind(coad.age_at_diagnosis_years, prad.age_at_diagnosis_years, equal_var=False)\n",
    "\n",
    "mu_c_age = coad.age_at_diagnosis_years.mean()\n",
    "mu_p_age = prad.age_at_diagnosis_years.mean()\n",
    "\n",
    "print(\"COAD mean age at diagnosis: {0:2f} \\t PRAD mean age at diagnosis: {1:2f}, \\n\\\n",
    "test statistic: {2:2f} \\t p-value: {3:2f}\".format(mu_c_age, mu_p_age, tstat, pval))"
   ]
  },
  {
   "cell_type": "markdown",
   "metadata": {},
   "source": [
    "The results above (p < $\\alpha$) reject the hypothesis that the means are equal. It is likely that the mean _age at diagnosis_ is different in the population of people with PRAD versus those with LUAD, in fact we can see that the $mean_{age \\ coad}=66.8$ and the $mean_{age \\ prad}=61.1$.\n",
    "\n",
    "Similarly as we did with the _One Sample T-test_ , we can run simulation studies to test the _Type I_ error for our _Two Sample_ tests, we will just have to adjust the formula in our `one_sample_simulation_values` function.\n",
    "\n",
    "_Note:_\n",
    "We should by no note the usefulness of functions in Python and that we should when possible aim to convert a repetitive or convenient chunck of code into a function. We will be following this practive in the changes we'll perform to the simulations function."
   ]
  },
  {
   "cell_type": "code",
   "execution_count": 24,
   "metadata": {},
   "outputs": [],
   "source": [
    "def two_sample_simulation_values(N,n1,n2,mu1,mu2,sd1,sd2,alpha=.95, z_test=True):\n",
    "    \"\"\"\n",
    "        Runs Monte-Carlo simulations for a Normal Distribution of the described mean and standard dev. \n",
    "    \n",
    "    \"\"\"\n",
    "    sims = []\n",
    "    for i in range(N):\n",
    "        \n",
    "        # we can use either numpy or scipy.stats to create a sample of size n from a distribution\n",
    "        sample_1 = np.random.normal(loc=mu1, scale=sd1, size=n1)\n",
    "        sample_2 = np.random.normal(loc=mu2, scale=sd2, size=n2)\n",
    "        \n",
    "        if z_test == True:\n",
    "            test_stat = z_test_statistic_two_sample(sample_1, sample_2)\n",
    "            critical_value = stats.norm.ppf(1-alpha)\n",
    "            test = np.abs(test_stat) > np.abs(critical_value)\n",
    "            \n",
    "        else:\n",
    "            # Call the two sample t test function from scipy, and set 'equal_var' to False\n",
    "            test_stat, pval = stats.ttest_ind(sample_1, sample_2, equal_var=False)\n",
    "            test = pval < 1-alpha\n",
    "        \n",
    "        sims.append(test)\n",
    "    \n",
    "    return np.array(sims)\n",
    "\n",
    "def z_test_statistic_two_sample(sample1,sample2):\n",
    "    \"\"\"\n",
    "    \n",
    "    \"\"\"\n",
    "    # computing means of samples\n",
    "    mu_1 = np.mean(sample1)\n",
    "    mu_2 = np.mean(sample2)\n",
    "    \n",
    "    # computing the standard errors\n",
    "    se_1 = np.std(sample1)**2 / len(sample1)\n",
    "    se_2 = np.std(sample2)**2 / len(sample2)\n",
    "    \n",
    "    z = (mu_1-mu_2 - 0)/np.sqrt(se_1+se_2)\n",
    "    return z\n"
   ]
  },
  {
   "cell_type": "code",
   "execution_count": 25,
   "metadata": {},
   "outputs": [],
   "source": [
    "# getting the variables to feed into simulations\n",
    "n_p = len(prad)\n",
    "n_c = len(coad)\n",
    "sd_p = np.std(prad.age_at_diagnosis_years, ddof=1)\n",
    "sd_c = np.std(coad.age_at_diagnosis_years, ddof=1)"
   ]
  },
  {
   "cell_type": "code",
   "execution_count": 26,
   "metadata": {},
   "outputs": [
    {
     "name": "stdout",
     "output_type": "stream",
     "text": [
      "Observed Alpha for Z-test= 0.100800 \n",
      "Observed Alpha for Welch-test= 0.052800\n"
     ]
    }
   ],
   "source": [
    "# we set a 'seed' number so that we can reproduce the random variable\n",
    "np.random.seed(2)\n",
    "\n",
    "# Checking the Type I error value from simulations\n",
    "# we use mean to calculate this from the array returned by the function\n",
    "# always remember we want to set the means equal to each other\n",
    "print(\"Observed Alpha for Z-test= {0:5f} \\nObserved Alpha for Welch-test= {1:5f}\".\n",
    "format(np.mean(two_sample_simulation_values(N=5000,n1=n_p,n2=n_c,mu1=62,mu2=62,sd1=sd_p,sd2=sd_c,alpha=.95)),\n",
    "      np.mean(two_sample_simulation_values(N=5000,n1=n_p,n2=n_c,mu1=62,mu2=62,sd1=sd_p,sd2=sd_c,alpha=.95,z_test=False))))"
   ]
  },
  {
   "cell_type": "markdown",
   "metadata": {},
   "source": [
    "We can see that if we run simulations for both the _Z-test_ and the _Welch t-test_ , we only expect the ___Welch t-test___ to perform as expected to theory of rejecting at about the $\\alpha=0.05$.\n"
   ]
  },
  {
   "cell_type": "markdown",
   "metadata": {},
   "source": [
    "## 3.3 ANOVA\n",
    "Say we want to ask a question about the different groups, such as the genes we selected as _Top value genes_ from _the Novice Tutorial_ , at once:\n",
    "\n",
    "> Question 3:\n",
    ">\n",
    "> Say we know that gene count data is important in determining how likely genes will react to a drug.  \n",
    "> Hence we would like to know for our _Top value genes_ ,  \n",
    "> __do all the different genes have the same underlying mean in their count data?__\n",
    "\n",
    "One-way Analysis of Variance (ANOVA) can be used to test this. Conceptually, the approach of ANOVA is to compare the variance *within* the individual groups to the variance *between* them. \n",
    "\n",
    "A test statistic called the F statistic is calculated and compared to critical values, as with simple hypothesis tests. \n",
    "\n",
    "&nbsp;\n",
    "\n",
    "Let's use ANOVA to answer Question 3. First, our hypotheses:\n",
    "\n",
    "> $H_{0}: \\delta_{i} = 0$ for all samples 'i'\n",
    ">\n",
    "> $H_{1}: \\delta_{i} \\neq 0$ for at least one sample 'i'\n",
    ">\n",
    "> *where $\\delta_{i}$ is the difference between the mean of group **i** and the overall mean*\n",
    "> \n",
    "> $\\alpha = 0.05$\n",
    "\n",
    "To do this, let's make use of the one way ANOVA function from both the SciPy and statsmodels packages. For us to use ANOVA, we must check the assumptions for ANOVA:\n",
    "1. Independence (of samples and of observations within each sample)\n",
    "    - _We already know the samples are independent_\n",
    "2. Equal variances\n",
    "    - _We will do a visual check to see which genes meet this assumption_\n",
    "3. Large sample sizes or normal distributions\n",
    "    - _We have sample sizes of over 300, large enough_"
   ]
  },
  {
   "cell_type": "code",
   "execution_count": 27,
   "metadata": {
    "scrolled": false
   },
   "outputs": [
    {
     "data": {
      "image/png": "[encoded data removed]",
      "text/plain": [
       "<Figure size 1152x432 with 1 Axes>"
      ]
     },
     "metadata": {
      "needs_background": "light"
     },
     "output_type": "display_data"
    }
   ],
   "source": [
    "# Select a few genes to include in the comparison\n",
    "\n",
    "# Rather than the usual method of subsetting a dataframe, we create a list of each \n",
    "# individual group because the statsmodels ANOVA function requires \n",
    "# a list of one dimensional arrays as input, rather than a two dimensional dataframe\n",
    "\n",
    "gene_names = ['ENSG00000034510','ENSG00000075624','ENSG00000087086','ENSG00000112306',\n",
    "              'ENSG00000137154','ENSG00000142534','ENSG00000184009','ENSG00000231500']\n",
    "\n",
    "\n",
    "# Check the variances through a boxplot\n",
    "fig_dims = (16, 6)\n",
    "fig, ax = plt.subplots(figsize=fig_dims)\n",
    "sns.boxplot(x=\"variable\", y=\"value\", data=pd.melt(data[gene_names]), ax=ax)\n",
    "plt.title('Box-plot for \"Top Gene Count\" Genes')\n",
    "plt.savefig('../3-Outputs/boxplot_topgenes_anova.png')\n",
    "plt.show()"
   ]
  },
  {
   "cell_type": "markdown",
   "metadata": {},
   "source": [
    "We see that not all the genes appear to have _equal variances_, the only ones that seem close enough are __'ENSG00000075624', 'ENSG00000112306', 'ENSG00000137154', 'ENSG00000142534'___ , so we'll run an ANOVA test for these."
   ]
  },
  {
   "cell_type": "code",
   "execution_count": 28,
   "metadata": {},
   "outputs": [
    {
     "data": {
      "text/plain": [
       "F_onewayResult(statistic=153.15032630032366, pvalue=8.40878552399828e-86)"
      ]
     },
     "execution_count": 28,
     "metadata": {},
     "output_type": "execute_result"
    }
   ],
   "source": [
    "cols = ['ENSG00000075624','ENSG00000112306','ENSG00000137154','ENSG00000142534']\n",
    "\n",
    "# Call the ANOVA function from statsmodels\n",
    "stats.f_oneway(data[cols[0]],data[cols[1]],data[cols[2]],data[cols[3]])    "
   ]
  },
  {
   "cell_type": "code",
   "execution_count": 29,
   "metadata": {},
   "outputs": [
    {
     "data": {
      "text/html": [
       "<div>\n",
       "<style scoped>\n",
       "    .dataframe tbody tr th:only-of-type {\n",
       "        vertical-align: middle;\n",
       "    }\n",
       "\n",
       "    .dataframe tbody tr th {\n",
       "        vertical-align: top;\n",
       "    }\n",
       "\n",
       "    .dataframe thead th {\n",
       "        text-align: right;\n",
       "    }\n",
       "</style>\n",
       "<table border=\"1\" class=\"dataframe\">\n",
       "  <thead>\n",
       "    <tr style=\"text-align: right;\">\n",
       "      <th></th>\n",
       "      <th>sum_sq</th>\n",
       "      <th>df</th>\n",
       "      <th>mean_sq</th>\n",
       "      <th>F</th>\n",
       "      <th>PR(&gt;F)</th>\n",
       "      <th>eta_sq</th>\n",
       "      <th>omega_sq</th>\n",
       "    </tr>\n",
       "  </thead>\n",
       "  <tbody>\n",
       "    <tr>\n",
       "      <th>C(variable)</th>\n",
       "      <td>214.806237</td>\n",
       "      <td>3.0</td>\n",
       "      <td>71.602079</td>\n",
       "      <td>153.150326</td>\n",
       "      <td>8.408786e-86</td>\n",
       "      <td>0.247622</td>\n",
       "      <td>0.245873</td>\n",
       "    </tr>\n",
       "    <tr>\n",
       "      <th>Residual</th>\n",
       "      <td>652.669208</td>\n",
       "      <td>1396.0</td>\n",
       "      <td>0.467528</td>\n",
       "      <td>NaN</td>\n",
       "      <td>NaN</td>\n",
       "      <td>NaN</td>\n",
       "      <td>NaN</td>\n",
       "    </tr>\n",
       "  </tbody>\n",
       "</table>\n",
       "</div>"
      ],
      "text/plain": [
       "                 sum_sq      df    mean_sq           F        PR(>F)  \\\n",
       "C(variable)  214.806237     3.0  71.602079  153.150326  8.408786e-86   \n",
       "Residual     652.669208  1396.0   0.467528         NaN           NaN   \n",
       "\n",
       "               eta_sq  omega_sq  \n",
       "C(variable)  0.247622  0.245873  \n",
       "Residual          NaN       NaN  "
      ]
     },
     "execution_count": 29,
     "metadata": {},
     "output_type": "execute_result"
    }
   ],
   "source": [
    "# Anova with statsmodels functions and function to display table\n",
    "########\n",
    "\n",
    "data_anova = pd.melt(data[cols]) # data in format needed\n",
    "model = ols('value ~ C(variable)', data=data_anova).fit() # 'r' like formula for anova model\n",
    "aov_table = sm.stats.anova_lm(model, typ=2) # running anova \n",
    "\n",
    "def anova_table(aov):\n",
    "    \"\"\"\n",
    "        The function below was created specifically for the one-way ANOVA table results returned for Type II sum of squares\n",
    "    \"\"\"\n",
    "    aov['mean_sq'] = aov[:]['sum_sq']/aov[:]['df']\n",
    "\n",
    "    aov['eta_sq'] = aov[:-1]['sum_sq']/sum(aov['sum_sq'])\n",
    "\n",
    "    aov['omega_sq'] = (aov[:-1]['sum_sq']-(aov[:-1]['df']*aov['mean_sq'][-1]))/(sum(aov['sum_sq'])+aov['mean_sq'][-1])\n",
    "\n",
    "    cols = ['sum_sq', 'df', 'mean_sq', 'F', 'PR(>F)', 'eta_sq', 'omega_sq']\n",
    "    aov = aov[cols]\n",
    "    return aov\n",
    "\n",
    "anova_table(aov_table)\n"
   ]
  },
  {
   "cell_type": "markdown",
   "metadata": {},
   "source": [
    "Both _SciPy_ and _statsmodels_ give the same values for the ___F statistic = 153.15___ and ___p-value = 8.41e-86___ , but we get the added bonus with statsmodels to perform \"r style\" functions and a nice display.\n",
    " \n",
    "The important thing to note is the p value, and $p < \\alpha$. \n",
    "\n",
    "We can reject the hypothesis that all of these 4 selected genes have the same underlying mean count data."
   ]
  },
  {
   "cell_type": "markdown",
   "metadata": {},
   "source": [
    "# 4. Power and Sample Size"
   ]
  },
  {
   "cell_type": "markdown",
   "metadata": {},
   "source": [
    "In designing an experiment, in addition to control of the type I error rate (typically at a level of 0.05), it is also important to control the type II error rate, or equivalently the power:\n",
    "> **Power = *P* (Reject *$H_{0}$* given that the alternative *$H_{1}$* holds)**  \n",
    "Also written as  \n",
    "**Power = 1 - *P* (Type II error) = 1 - $\\beta$**\n",
    "\n",
    "Recall that for our experiment and hypothesis tests, we first address _Type I_ error and then from there address the _Type II_ errors by calculating the desired power and changing the needed sample size.\n",
    "\n",
    "A good way to think of power is:\n",
    "> As researchers, we would like to know how much power there will be to detect the alternative hypothesis $H_{1}$ of interest.\n",
    "\n",
    "So for us to calculate power and test for a sample size large enough, we have to test for how big of a difference in our data means are we willing to include in our experiment. Let's work through calculating the power in some of our hypothesis test from the previous section.\n",
    "\n",
    "By tradition we usually want to have at least 80% power in our experiments at an $\\alpha=0.05$. So we'll compute the current power and if we don't have enough power we'll calculate the needed sample size that would give us the desired power. \n",
    "\n",
    "\n",
    "## 4.1 One Sample Power\n",
    "\n",
    "Given that we are interested in the mean _age at diagnosis_ for _'KIRC'_ cancer:\n",
    "\n",
    "> Question1:\n",
    ">\n",
    "> Is the mean _age (in years) at diagnosis_ for 'KIRC' (kidney) cancer equal to 55?  \n",
    "We are also interested in calculating the __power to detect a difference in the *mean age at diagnosis of 4 years*__ ."
   ]
  },
  {
   "cell_type": "code",
   "execution_count": 30,
   "metadata": {},
   "outputs": [],
   "source": [
    "# Functions for One Sample power and sample size calculation functions\n",
    "\n",
    "def one_sample_size_required(power,N,n,mu,mu_0,sd_0,alpha=.95):\n",
    "    \"\"\"\n",
    "        Calculates the minimum sample size needed to achive desired power\n",
    "    \n",
    "    \"\"\"\n",
    "    sim_power = 0\n",
    "    power_values = list()\n",
    "    n_tem = n\n",
    "    while(sim_power <= power):\n",
    "    \n",
    "        simulation_value = [np.mean(one_sample_simulation_values(N,n,mu,mu_0,sd_0,alpha))]\n",
    "        sim_power = np.mean(simulation_value)\n",
    "        power_values.append([sim_power])\n",
    "        if n_tem == n:\n",
    "            print(\"Current Sample size: {0:1d} \\t Current Power: {1:1f}\".format(n, sim_power))\n",
    "    \n",
    "        n += 1\n",
    "    print(\"Needed Sample size: {0:1d} \\t\\t Final Power: {1:1f}\".format(n, sim_power))\n",
    "    \n",
    "\n",
    "def one_sample_size_calculation_formula(sd, diff_means, pow_wanted, pow_alpha):\n",
    "    \"\"\"\n",
    "        Calculates sample size needed for desired power through the formula\n",
    "    \"\"\"\n",
    "\n",
    "    return (sd**2 * (stats.norm.ppf(pow_wanted) + stats.norm.ppf(pow_alpha))**2)/diff_means**2\n",
    "\n",
    "\n"
   ]
  },
  {
   "cell_type": "code",
   "execution_count": 31,
   "metadata": {},
   "outputs": [
    {
     "name": "stdout",
     "output_type": "stream",
     "text": [
      "Current Sample size: 66 \t Current Power: 0.656800\n",
      "Needed Sample size: 93 \t\t Final Power: 0.802800\n"
     ]
    }
   ],
   "source": [
    "one_sample_size_required(power=.80,N=5000,n=n_k,mu=59,mu_0=55,sd_0=sd_k_age,alpha=.975)"
   ]
  },
  {
   "cell_type": "code",
   "execution_count": 32,
   "metadata": {},
   "outputs": [
    {
     "data": {
      "text/plain": [
       "89.02944032006867"
      ]
     },
     "execution_count": 32,
     "metadata": {},
     "output_type": "execute_result"
    }
   ],
   "source": [
    "one_sample_size_calculation_formula(sd=sd_k_age,diff_means=4,pow_wanted=.8,pow_alpha=.975)"
   ]
  },
  {
   "cell_type": "markdown",
   "metadata": {},
   "source": [
    "So we see that the starting power to detect a _difference of 4 years_ in the _mean age at diagnosis_ for our experiment is 66%, which is low compared to the 80% we want. From both the `one_sample_size_required` and `one_sample_size_calculation_formula` functions, we see that we would need around a sample size of 90 to achive the desired power.\n",
    "\n",
    "\n",
    "## 4.2 Two Sample Power\n",
    "\n",
    "Given our second question:\n",
    "\n",
    "> Question 2:\n",
    ">\n",
    "> Is the mean _age (years) of diagnosis_ different between people with _Colon Cancer (COAD)_ versus people with _Kidney Cancer KIRC_ ?\n",
    "\n",
    "We want again to calculate the __power to detect a difference in *mean age at diagnosis of 6 years*__ ."
   ]
  },
  {
   "cell_type": "code",
   "execution_count": 33,
   "metadata": {},
   "outputs": [],
   "source": [
    "def two_sample_size_required(power,N,n1,n2,mu1,mu2,sd1,sd2,alpha=.975):\n",
    "    \"\"\"\n",
    "        Calculates the minimum sample size needed to achive desired power\n",
    "    \n",
    "    \"\"\"\n",
    "    sim_power = 0\n",
    "    power_values = list()\n",
    "    n = min(n1,n2)\n",
    "    n_tem = n\n",
    "    while(sim_power <= power):\n",
    "    \n",
    "        simulation_value = [np.mean(two_sample_simulation_values(N,n1,n2,mu1,mu2,sd1,sd2,alpha,z_test=False))]\n",
    "        sim_power = np.mean(simulation_value)\n",
    "        power_values.append([sim_power])\n",
    "        if n_tem == n:\n",
    "            print(\"Current Sample size: {0:1d} \\t Current Power: {1:1f}\".format(n, sim_power))\n",
    "    \n",
    "        n += 1\n",
    "        print(\"Needed Sample size: {0:1d} \\t\\t Final Power: {1:1f}\".format(n, sim_power))\n",
    "    \n",
    "\n",
    "def two_sample_size_calculation_formula(sd1, sd2, diff_means, pow_wanted, pow_alpha):\n",
    "    \"\"\"\n",
    "        Calculates sample size needed for desired power through the formula for two sample groups\n",
    "    \"\"\"\n",
    "    \n",
    "    return((sd1**2 + sd2**2)*(stats.norm.ppf(pow_wanted) + stats.norm.ppf(pow_alpha))**2)/diff_means**2"
   ]
  },
  {
   "cell_type": "code",
   "execution_count": 34,
   "metadata": {},
   "outputs": [
    {
     "data": {
      "text/plain": [
       "71.60491087351662"
      ]
     },
     "execution_count": 34,
     "metadata": {},
     "output_type": "execute_result"
    }
   ],
   "source": [
    "two_sample_size_calculation_formula(sd1=sd_k_age,sd2=sd_c,diff_means=6,pow_wanted=.8,pow_alpha=.975)"
   ]
  },
  {
   "cell_type": "markdown",
   "metadata": {},
   "source": [
    "We see again that our starting sample size is small for our desired power of 80% to detect a _difference in 6 years in the means at age at diagnosis_ . From our functions we see that we need abouta sample size of 72 to reach the desired power.\n"
   ]
  },
  {
   "cell_type": "markdown",
   "metadata": {},
   "source": [
    "# Wrapping up\n",
    "\n",
    "In this tutorial we were introduced to concepts in hypothesis testing, different test statistics, statistical simulations, and power calculations. We worked through examples of how to use functions in the __SciPy__ and __statsmodels__ python libraries to perform different hypothesis test pertinent to the pancan genomic data. You should now have the fundamentals to properly design and evaluate hypothesis test and build from there on your research by applying the teachings of this tutorial.\n",
    "\n",
    "You can now proceed on to the next tutorial in the PANCAN Genomic series or jump back into the previous ones:\n",
    "\n",
    "- [Tutorial 1 - Beginner](https://github.com/fredhutchio/ml-pancancer-example/blob/main/2-Tutorials/Tutorial%201%20-%20Beginner.ipynb)  \n",
    "- [Tutorial 2 - Intermediate](https://github.com/fredhutchio/ml-pancancer-example/blob/main/2-Tutorials/Tutorial%202%20-%20Intermediate.ipynb) (*Current*) \n",
    "- [Tutorial 3 - Advanced](https://github.com/fredhutchio/ml-pancancer-example/blob/main/2-Tutorials/Tutorial%203%20-%20Advanced.ipynb)  \n",
    "\n",
    "You can also jump into the [melenoma lesions series](https://github.com/fredhutchio/ml-melanoma-example), the other Data Science and Machine Learning tutorial."
   ]
  },
  {
   "cell_type": "code",
   "execution_count": null,
   "metadata": {},
   "outputs": [],
   "source": []
  }
 ],
 "metadata": {
  "kernelspec": {
   "display_name": "Python [conda env:data558] *",
   "language": "python",
   "name": "conda-env-data558-py"
  },
  "language_info": {
   "codemirror_mode": {
    "name": "ipython",
    "version": 3
   },
   "file_extension": ".py",
   "mimetype": "text/x-python",
   "name": "python",
   "nbconvert_exporter": "python",
   "pygments_lexer": "ipython3",
   "version": "3.7.7"
  }
 },
 "nbformat": 4,
 "nbformat_minor": 4
}
